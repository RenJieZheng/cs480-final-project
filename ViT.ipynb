{
 "cells": [
  {
   "cell_type": "markdown",
   "id": "38e34428",
   "metadata": {
    "papermill": {
     "duration": 0.009137,
     "end_time": "2024-08-11T01:07:47.716113",
     "exception": false,
     "start_time": "2024-08-11T01:07:47.706976",
     "status": "completed"
    },
    "tags": []
   },
   "source": [
    "# Import"
   ]
  },
  {
   "cell_type": "code",
   "execution_count": 1,
   "id": "e00e8b8b",
   "metadata": {
    "_cell_guid": "b1076dfc-b9ad-4769-8c92-a6c4dae69d19",
    "_uuid": "8f2839f25d086af736a60e9eeb907d3b93b6e0e5",
    "execution": {
     "iopub.execute_input": "2024-08-11T01:07:47.735124Z",
     "iopub.status.busy": "2024-08-11T01:07:47.734238Z",
     "iopub.status.idle": "2024-08-11T01:07:55.271395Z",
     "shell.execute_reply": "2024-08-11T01:07:55.270504Z"
    },
    "papermill": {
     "duration": 7.54958,
     "end_time": "2024-08-11T01:07:55.274135",
     "exception": false,
     "start_time": "2024-08-11T01:07:47.724555",
     "status": "completed"
    },
    "tags": []
   },
   "outputs": [],
   "source": [
    "import os\n",
    "\n",
    "import numpy as np\n",
    "import pandas as pd\n",
    "\n",
    "from sklearn.metrics import r2_score\n",
    "\n",
    "from PIL import Image\n",
    "\n",
    "import torch\n",
    "import torch.nn as nn\n",
    "import torch.nn.functional as F\n",
    "import torch.optim as optim\n",
    "from torch.utils.data import Dataset, DataLoader\n",
    "from torchvision import transforms\n",
    "\n",
    "# from torchvision.models import resnet50, ResNet50_Weights, resnet34, ResNet34_Weights, inception_v3, Inception_V3_Weights\n",
    "\n",
    "from torchvision.models import vit_b_16, ViT_B_16_Weights"
   ]
  },
  {
   "cell_type": "markdown",
   "id": "a45570e5",
   "metadata": {
    "papermill": {
     "duration": 0.008192,
     "end_time": "2024-08-11T01:07:55.291234",
     "exception": false,
     "start_time": "2024-08-11T01:07:55.283042",
     "status": "completed"
    },
    "tags": []
   },
   "source": [
    "# Data"
   ]
  },
  {
   "cell_type": "code",
   "execution_count": 2,
   "id": "caecce79",
   "metadata": {
    "execution": {
     "iopub.execute_input": "2024-08-11T01:07:55.310299Z",
     "iopub.status.busy": "2024-08-11T01:07:55.309477Z",
     "iopub.status.idle": "2024-08-11T01:07:55.317944Z",
     "shell.execute_reply": "2024-08-11T01:07:55.316981Z"
    },
    "papermill": {
     "duration": 0.020414,
     "end_time": "2024-08-11T01:07:55.320029",
     "exception": false,
     "start_time": "2024-08-11T01:07:55.299615",
     "status": "completed"
    },
    "tags": []
   },
   "outputs": [
    {
     "data": {
      "text/plain": [
       "'from PIL import Image\\n\\nimage1 = Image.open(\"/kaggle/input/cs-480-2024-spring/data/train_images/190966811.jpeg\")\\nimage2 = Image.open(\"/kaggle/input/cs-480-2024-spring/data/test_images/179127153.jpeg\")\\n\\nprint(image1.mode)\\nprint(image1.size)\\nprint(image2.mode)\\nprint(image2.size)'"
      ]
     },
     "execution_count": 2,
     "metadata": {},
     "output_type": "execute_result"
    }
   ],
   "source": [
    "'''for dirname, _, filenames in os.walk('/kaggle/input'):\n",
    "    for filename in filenames:\n",
    "        print(os.path.join(dirname, filename))'''\n",
    "\n",
    "'''from PIL import Image\n",
    "\n",
    "image1 = Image.open(\"/kaggle/input/cs-480-2024-spring/data/train_images/190966811.jpeg\")\n",
    "image2 = Image.open(\"/kaggle/input/cs-480-2024-spring/data/test_images/179127153.jpeg\")\n",
    "\n",
    "print(image1.mode)\n",
    "print(image1.size)\n",
    "print(image2.mode)\n",
    "print(image2.size)'''"
   ]
  },
  {
   "cell_type": "code",
   "execution_count": 3,
   "id": "f30503e5",
   "metadata": {
    "execution": {
     "iopub.execute_input": "2024-08-11T01:07:55.339511Z",
     "iopub.status.busy": "2024-08-11T01:07:55.339183Z",
     "iopub.status.idle": "2024-08-11T01:07:57.180069Z",
     "shell.execute_reply": "2024-08-11T01:07:57.179160Z"
    },
    "papermill": {
     "duration": 1.853502,
     "end_time": "2024-08-11T01:07:57.182555",
     "exception": false,
     "start_time": "2024-08-11T01:07:55.329053",
     "status": "completed"
    },
    "tags": []
   },
   "outputs": [],
   "source": [
    "train_data = pd.read_csv(\"/kaggle/input/cs-480-2024-spring/data/train.csv\")\n",
    "train_data = train_data.set_index('id')\n",
    "validation_data = train_data.sample(frac = 0.1)\n",
    "train_data =  train_data.drop(validation_data.index)\n",
    "\n",
    "train_traits = train_data.iloc[:,-6:]\n",
    "train_data = train_data.iloc[:,:-6]\n",
    "\n",
    "validation_traits = validation_data.iloc[:,-6:]\n",
    "validation_data = validation_data.iloc[:,:-6]"
   ]
  },
  {
   "cell_type": "code",
   "execution_count": 4,
   "id": "f2784157",
   "metadata": {
    "execution": {
     "iopub.execute_input": "2024-08-11T01:07:57.201613Z",
     "iopub.status.busy": "2024-08-11T01:07:57.201195Z",
     "iopub.status.idle": "2024-08-11T01:07:57.207311Z",
     "shell.execute_reply": "2024-08-11T01:07:57.206428Z"
    },
    "papermill": {
     "duration": 0.018279,
     "end_time": "2024-08-11T01:07:57.209486",
     "exception": false,
     "start_time": "2024-08-11T01:07:57.191207",
     "status": "completed"
    },
    "tags": []
   },
   "outputs": [
    {
     "data": {
      "text/plain": [
       "'print(len(train_data), len(validation_data))\\nprint(train_traits.head())\\nprint(validation_traits.head())'"
      ]
     },
     "execution_count": 4,
     "metadata": {},
     "output_type": "execute_result"
    }
   ],
   "source": [
    "'''print(len(train_data), len(validation_data))\n",
    "print(train_traits.head())\n",
    "print(validation_traits.head())'''"
   ]
  },
  {
   "cell_type": "markdown",
   "id": "e3d01c50",
   "metadata": {
    "papermill": {
     "duration": 0.009652,
     "end_time": "2024-08-11T01:07:57.228301",
     "exception": false,
     "start_time": "2024-08-11T01:07:57.218649",
     "status": "completed"
    },
    "tags": []
   },
   "source": [
    "## Data transformation"
   ]
  },
  {
   "cell_type": "code",
   "execution_count": 5,
   "id": "89aed110",
   "metadata": {
    "execution": {
     "iopub.execute_input": "2024-08-11T01:07:57.247631Z",
     "iopub.status.busy": "2024-08-11T01:07:57.247239Z",
     "iopub.status.idle": "2024-08-11T01:07:57.379785Z",
     "shell.execute_reply": "2024-08-11T01:07:57.378870Z"
    },
    "papermill": {
     "duration": 0.145005,
     "end_time": "2024-08-11T01:07:57.382209",
     "exception": false,
     "start_time": "2024-08-11T01:07:57.237204",
     "status": "completed"
    },
    "tags": []
   },
   "outputs": [],
   "source": [
    "# Log \n",
    "train_traits_log = np.log10(train_traits)\n",
    "validation_traits_log = np.log10(validation_traits)\n",
    "\n",
    "# Values\n",
    "traits_max = train_traits_log.max()\n",
    "traits_min = train_traits_log.min()\n",
    "traits_mean = train_traits.mean()\n",
    "traits_std = train_traits.std()\n",
    "\n",
    "data_max = train_data.max()\n",
    "data_min = train_data.min()\n",
    "data_mean = train_data.mean()\n",
    "data_std = train_data.std()\n",
    "\n",
    "# Normalize\n",
    "train_traits_normalized = (train_traits_log - traits_min) / (traits_max - traits_min)\n",
    "validation_traits_normalized = (validation_traits_log - traits_min) / (traits_max - traits_min)\n",
    "\n",
    "train_data_normalized = (train_data - data_min) / (data_max - data_min)\n",
    "validation_data_normalized = (validation_data - data_min) / (data_max - data_min)\n",
    "\n",
    "def inverse_transformation(trait):\n",
    "    return np.power(10, (trait * (traits_max - traits_min)) + traits_min)"
   ]
  },
  {
   "cell_type": "code",
   "execution_count": 6,
   "id": "b3aec34c",
   "metadata": {
    "execution": {
     "iopub.execute_input": "2024-08-11T01:07:57.402593Z",
     "iopub.status.busy": "2024-08-11T01:07:57.402207Z",
     "iopub.status.idle": "2024-08-11T01:07:57.410221Z",
     "shell.execute_reply": "2024-08-11T01:07:57.409288Z"
    },
    "papermill": {
     "duration": 0.020618,
     "end_time": "2024-08-11T01:07:57.412348",
     "exception": false,
     "start_time": "2024-08-11T01:07:57.391730",
     "status": "completed"
    },
    "tags": []
   },
   "outputs": [
    {
     "data": {
      "text/plain": [
       "'print(torch.tensor(train_traits.loc[101801795].values))'"
      ]
     },
     "execution_count": 6,
     "metadata": {},
     "output_type": "execute_result"
    }
   ],
   "source": [
    "'''print(train_traits_normalized.head())\n",
    "print(validation_traits_normalized.head())\n",
    "print(train_data_normalized.head())\n",
    "print(validation_data_normalized.head())'''\n",
    "\n",
    "'''\n",
    "print(test_data.head())\n",
    "print(test_traits.head())'''\n",
    "\n",
    "'''print(train_traits.loc[101801795])\n",
    "print(type(train_traits.loc[101801795]))'''\n",
    "\n",
    "'''print(torch.tensor(train_traits.loc[101801795].values))'''\n",
    "\n",
    "# print(data_max, data_min)"
   ]
  },
  {
   "cell_type": "code",
   "execution_count": 7,
   "id": "cc8dd86c",
   "metadata": {
    "execution": {
     "iopub.execute_input": "2024-08-11T01:07:57.434241Z",
     "iopub.status.busy": "2024-08-11T01:07:57.433851Z",
     "iopub.status.idle": "2024-08-11T01:07:57.444435Z",
     "shell.execute_reply": "2024-08-11T01:07:57.443594Z"
    },
    "papermill": {
     "duration": 0.024846,
     "end_time": "2024-08-11T01:07:57.446604",
     "exception": false,
     "start_time": "2024-08-11T01:07:57.421758",
     "status": "completed"
    },
    "tags": []
   },
   "outputs": [],
   "source": [
    "class CustomDataSet(Dataset):\n",
    "    def __init__(self, root_dir, indices, label_mapping, target_mapping, transform = None):\n",
    "        self.root_dir = root_dir\n",
    "        self.indices = indices\n",
    "        self.transform = transform\n",
    "        self.image_paths = []\n",
    "        self.targets = []\n",
    "        self.labels = []\n",
    "        \n",
    "        for idx in indices:\n",
    "            self.image_paths.append(os.path.join(root_dir, str(idx) + \".jpeg\"))\n",
    "            target = self.get_target_from_filename(idx, target_mapping)\n",
    "            self.targets.append(target)\n",
    "            label = self.get_label_from_filename(idx, label_mapping)\n",
    "            self.labels.append(label)\n",
    "                \n",
    "    def get_target_from_filename(self, idx, target_mapping):\n",
    "        target = target_mapping.loc[idx].values\n",
    "        return torch.tensor(target).float()\n",
    "    \n",
    "    def get_label_from_filename(self, idx, label_mapping):\n",
    "        target = label_mapping.loc[idx].values\n",
    "        return torch.tensor(target).float()\n",
    "        \n",
    "    def __len__(self):\n",
    "        return len(self.image_paths)\n",
    "\n",
    "    def __getitem__(self, idx):\n",
    "        img_path = self.image_paths[idx]\n",
    "        image = Image.open(img_path)\n",
    "        target = self.targets[idx]\n",
    "        label = self.labels[idx]\n",
    " \n",
    "        if self.transform:\n",
    "            image = self.transform(image)\n",
    "\n",
    "        return image, label, target"
   ]
  },
  {
   "cell_type": "code",
   "execution_count": 8,
   "id": "c57ab760",
   "metadata": {
    "execution": {
     "iopub.execute_input": "2024-08-11T01:07:57.467399Z",
     "iopub.status.busy": "2024-08-11T01:07:57.467022Z",
     "iopub.status.idle": "2024-08-11T01:08:10.122932Z",
     "shell.execute_reply": "2024-08-11T01:08:10.122013Z"
    },
    "papermill": {
     "duration": 12.669054,
     "end_time": "2024-08-11T01:08:10.125517",
     "exception": false,
     "start_time": "2024-08-11T01:07:57.456463",
     "status": "completed"
    },
    "tags": []
   },
   "outputs": [],
   "source": [
    "train_transform = transforms.Compose([\n",
    "    transforms.Resize((224, 224)),\n",
    "    transforms.RandomHorizontalFlip(),\n",
    "    transforms.RandomVerticalFlip(),\n",
    "    transforms.ColorJitter(brightness=(0.9, 1.1), contrast=(0.9, 1.1), saturation=(0.9, 1.1)),\n",
    "    transforms.ToTensor(),\n",
    "    transforms.Normalize(mean=[0.485, 0.456, 0.406],\n",
    "                         std=[0.229, 0.224, 0.225])\n",
    "])\n",
    "\n",
    "validation_transform = transforms.Compose([\n",
    "    transforms.Resize((224, 224)),\n",
    "    transforms.ToTensor(),\n",
    "    transforms.Normalize(mean=[0.485, 0.456, 0.406],\n",
    "                         std=[0.229, 0.224, 0.225])\n",
    "])\n",
    "\n",
    "\n",
    "trainset = CustomDataSet('/kaggle/input/cs-480-2024-spring/data/train_images/', train_data_normalized.index.tolist(), train_data_normalized,\n",
    "                          train_traits_normalized, transform=train_transform)\n",
    "validationset = CustomDataSet('/kaggle/input/cs-480-2024-spring/data/train_images/', validation_data_normalized.index.tolist(), validation_data_normalized,\n",
    "                               validation_traits_normalized, transform=validation_transform)\n",
    "\n",
    "batch_size = 32\n",
    "\n",
    "trainloader = DataLoader(trainset, batch_size = batch_size, shuffle=True)\n",
    "validationloader = DataLoader(validationset, batch_size = batch_size, shuffle=False)"
   ]
  },
  {
   "cell_type": "code",
   "execution_count": 9,
   "id": "5a3ac2cc",
   "metadata": {
    "execution": {
     "iopub.execute_input": "2024-08-11T01:08:10.146329Z",
     "iopub.status.busy": "2024-08-11T01:08:10.145464Z",
     "iopub.status.idle": "2024-08-11T01:08:10.151440Z",
     "shell.execute_reply": "2024-08-11T01:08:10.150576Z"
    },
    "papermill": {
     "duration": 0.018745,
     "end_time": "2024-08-11T01:08:10.153668",
     "exception": false,
     "start_time": "2024-08-11T01:08:10.134923",
     "status": "completed"
    },
    "tags": []
   },
   "outputs": [
    {
     "data": {
      "text/plain": [
       "'for i, sample in enumerate(trainloader):\\n    image, label, target = sample[0], sample[1], sample[2]\\n    print(image, label, target)\\n    break'"
      ]
     },
     "execution_count": 9,
     "metadata": {},
     "output_type": "execute_result"
    }
   ],
   "source": [
    "'''for i, sample in enumerate(trainloader):\n",
    "    image, label, target = sample[0], sample[1], sample[2]\n",
    "    print(image, label, target)\n",
    "    break'''\n",
    "\n",
    "# print(len(trainloader))"
   ]
  },
  {
   "cell_type": "markdown",
   "id": "3a201cd7",
   "metadata": {
    "papermill": {
     "duration": 0.009262,
     "end_time": "2024-08-11T01:08:10.172233",
     "exception": false,
     "start_time": "2024-08-11T01:08:10.162971",
     "status": "completed"
    },
    "tags": []
   },
   "source": [
    "# CNN"
   ]
  },
  {
   "cell_type": "code",
   "execution_count": 10,
   "id": "4bc582e4",
   "metadata": {
    "execution": {
     "iopub.execute_input": "2024-08-11T01:08:10.193288Z",
     "iopub.status.busy": "2024-08-11T01:08:10.192880Z",
     "iopub.status.idle": "2024-08-11T01:08:10.275190Z",
     "shell.execute_reply": "2024-08-11T01:08:10.274190Z"
    },
    "papermill": {
     "duration": 0.095991,
     "end_time": "2024-08-11T01:08:10.278115",
     "exception": false,
     "start_time": "2024-08-11T01:08:10.182124",
     "status": "completed"
    },
    "tags": []
   },
   "outputs": [
    {
     "name": "stdout",
     "output_type": "stream",
     "text": [
      "Using cuda device\n"
     ]
    }
   ],
   "source": [
    "device = (\n",
    "    \"cuda\"\n",
    "    if torch.cuda.is_available()\n",
    "    else \"mps\"\n",
    "    if torch.backends.mps.is_available()\n",
    "    else \"cpu\"\n",
    ")\n",
    "print(f\"Using {device} device\")"
   ]
  },
  {
   "cell_type": "markdown",
   "id": "b434c586",
   "metadata": {
    "papermill": {
     "duration": 0.009829,
     "end_time": "2024-08-11T01:08:10.298206",
     "exception": false,
     "start_time": "2024-08-11T01:08:10.288377",
     "status": "completed"
    },
    "tags": []
   },
   "source": [
    "## Model"
   ]
  },
  {
   "cell_type": "code",
   "execution_count": 11,
   "id": "da002382",
   "metadata": {
    "execution": {
     "iopub.execute_input": "2024-08-11T01:08:10.319520Z",
     "iopub.status.busy": "2024-08-11T01:08:10.319184Z",
     "iopub.status.idle": "2024-08-11T01:08:10.325684Z",
     "shell.execute_reply": "2024-08-11T01:08:10.324660Z"
    },
    "papermill": {
     "duration": 0.019856,
     "end_time": "2024-08-11T01:08:10.327870",
     "exception": false,
     "start_time": "2024-08-11T01:08:10.308014",
     "status": "completed"
    },
    "tags": []
   },
   "outputs": [
    {
     "data": {
      "text/plain": [
       "'weights = ViT_B_16_Weights.DEFAULT\\npreprocess = weights.transforms()\\n\\nprint(preprocess)'"
      ]
     },
     "execution_count": 11,
     "metadata": {},
     "output_type": "execute_result"
    }
   ],
   "source": [
    "'''weights = ViT_B_16_Weights.DEFAULT\n",
    "preprocess = weights.transforms()\n",
    "\n",
    "print(preprocess)'''\n",
    "\n",
    "# print(vit_b_16(weights=ViT_B_16_Weights.DEFAULT))"
   ]
  },
  {
   "cell_type": "code",
   "execution_count": 12,
   "id": "2019659c",
   "metadata": {
    "execution": {
     "iopub.execute_input": "2024-08-11T01:08:10.349582Z",
     "iopub.status.busy": "2024-08-11T01:08:10.348894Z",
     "iopub.status.idle": "2024-08-11T01:08:10.365940Z",
     "shell.execute_reply": "2024-08-11T01:08:10.364886Z"
    },
    "papermill": {
     "duration": 0.030384,
     "end_time": "2024-08-11T01:08:10.368207",
     "exception": false,
     "start_time": "2024-08-11T01:08:10.337823",
     "status": "completed"
    },
    "tags": []
   },
   "outputs": [],
   "source": [
    "class CNNBranch(nn.Module):\n",
    "    def __init__(self):\n",
    "        super(CNNBranch, self).__init__()\n",
    "        \n",
    "        self.pretrained = vit_b_16(weights=ViT_B_16_Weights.DEFAULT)\n",
    "        \n",
    "        for param in self.pretrained.parameters():\n",
    "            param.requires_grad = False\n",
    "            \n",
    "        for module in self.pretrained.modules():\n",
    "            if isinstance(module, nn.LayerNorm):\n",
    "                for param in module.parameters():\n",
    "                    param.requires_grad = True\n",
    "        \n",
    "        fc_inputs = 1000\n",
    "        self.image = nn.Sequential(\n",
    "            nn.Linear(fc_inputs, 512),\n",
    "            nn.BatchNorm1d(512),\n",
    "            nn.ReLU(),\n",
    "            nn.Dropout(0.5),\n",
    "            nn.Linear(512, 256),\n",
    "            nn.BatchNorm1d(256),\n",
    "            nn.ReLU(),\n",
    "            nn.Dropout(0.5),\n",
    "        )\n",
    "    \n",
    "    def forward(self, x):\n",
    "        x = self.pretrained(x)\n",
    "        x = self.image(x)\n",
    "        return x\n",
    "    \n",
    "\n",
    "class AncillaryBranch(nn.Module):\n",
    "    def __init__(self):\n",
    "        super(AncillaryBranch, self).__init__()\n",
    "        \n",
    "        self.ancillary = nn.Sequential(\n",
    "            nn.Linear(163, 1024),\n",
    "            nn.BatchNorm1d(1024),\n",
    "            nn.ReLU(),\n",
    "            nn.Dropout(0.5),\n",
    "            nn.Linear(1024, 1024),\n",
    "            nn.BatchNorm1d(1024),\n",
    "            nn.ReLU(),\n",
    "            nn.Dropout(0.5),\n",
    "            nn.Linear(1024, 256),\n",
    "            nn.BatchNorm1d(256),\n",
    "            nn.ReLU(),\n",
    "            nn.Dropout(0.5),\n",
    "        )\n",
    "    \n",
    "    def forward(self, x):\n",
    "        x = self.ancillary(x)\n",
    "        return x\n",
    "\n",
    "\n",
    "class CombinedModel(nn.Module):\n",
    "    def __init__(self):\n",
    "        super(CombinedModel, self).__init__()\n",
    "        \n",
    "        self.cnn_branch = CNNBranch()\n",
    "        self.ancillary_branch = AncillaryBranch()\n",
    "        \n",
    "        self.combined_regressor = nn.Sequential(\n",
    "            nn.Linear(512, 256),\n",
    "            nn.BatchNorm1d(256),\n",
    "            nn.ReLU(),\n",
    "            nn.Dropout(0.5),\n",
    "            nn.Linear(256, 128),\n",
    "            nn.BatchNorm1d(128),\n",
    "            nn.ReLU(),\n",
    "            nn.Dropout(0.5),\n",
    "            nn.Linear(128, 64),\n",
    "            nn.ReLU(),\n",
    "            nn.Linear(64, 6)\n",
    "        )\n",
    "    \n",
    "    def forward(self, image, ancillary):\n",
    "        image_features = self.cnn_branch(image)\n",
    "        ancillary_features = self.ancillary_branch(ancillary)\n",
    "        \n",
    "        combined_features = torch.cat((image_features, ancillary_features), dim=1)\n",
    "        \n",
    "        x = self.combined_regressor(combined_features) \n",
    "        return x"
   ]
  },
  {
   "cell_type": "markdown",
   "id": "7ff1e67a",
   "metadata": {
    "papermill": {
     "duration": 0.010373,
     "end_time": "2024-08-11T01:08:10.388929",
     "exception": false,
     "start_time": "2024-08-11T01:08:10.378556",
     "status": "completed"
    },
    "tags": []
   },
   "source": [
    "## Training"
   ]
  },
  {
   "cell_type": "code",
   "execution_count": 13,
   "id": "6c990829",
   "metadata": {
    "execution": {
     "iopub.execute_input": "2024-08-11T01:08:10.410567Z",
     "iopub.status.busy": "2024-08-11T01:08:10.410212Z",
     "iopub.status.idle": "2024-08-11T01:08:15.014567Z",
     "shell.execute_reply": "2024-08-11T01:08:15.013507Z"
    },
    "papermill": {
     "duration": 4.617883,
     "end_time": "2024-08-11T01:08:15.016994",
     "exception": false,
     "start_time": "2024-08-11T01:08:10.399111",
     "status": "completed"
    },
    "tags": []
   },
   "outputs": [
    {
     "name": "stderr",
     "output_type": "stream",
     "text": [
      "Downloading: \"https://download.pytorch.org/models/vit_b_16-c867db91.pth\" to /root/.cache/torch/hub/checkpoints/vit_b_16-c867db91.pth\n",
      "100%|██████████| 330M/330M [00:02<00:00, 148MB/s]\n"
     ]
    },
    {
     "name": "stdout",
     "output_type": "stream",
     "text": [
      "Model Created\n"
     ]
    }
   ],
   "source": [
    "model = CombinedModel()\n",
    "optimizer = optim.Adam(model.parameters(), lr=1e-4, weight_decay=1e-5)\n",
    "criterion = nn.MSELoss()\n",
    "model.to(device)\n",
    "print(\"Model Created\")"
   ]
  },
  {
   "cell_type": "code",
   "execution_count": 14,
   "id": "032e0e20",
   "metadata": {
    "execution": {
     "iopub.execute_input": "2024-08-11T01:08:15.043729Z",
     "iopub.status.busy": "2024-08-11T01:08:15.042912Z",
     "iopub.status.idle": "2024-08-11T01:08:15.055350Z",
     "shell.execute_reply": "2024-08-11T01:08:15.054299Z"
    },
    "papermill": {
     "duration": 0.028339,
     "end_time": "2024-08-11T01:08:15.057755",
     "exception": false,
     "start_time": "2024-08-11T01:08:15.029416",
     "status": "completed"
    },
    "tags": []
   },
   "outputs": [],
   "source": [
    "def train(model, device, train_loader, criterion, optimizer, epoch):\n",
    "    loss_fn = criterion\n",
    "    model.train()\n",
    "    train_loss_total = 0\n",
    "    for batch_idx, (data, label, target) in enumerate(train_loader):\n",
    "        data, label, target = data.to(device), label.to(device),target.to(device)\n",
    "        optimizer.zero_grad()\n",
    "        output = model(data, label)\n",
    "        loss = loss_fn(output, target)\n",
    "        \n",
    "        '''reg_loss = 0\n",
    "        for param in model.parameters():\n",
    "            reg_loss += torch.norm(param, 1)\n",
    "        loss += 0.3 * reg_loss'''\n",
    "        \n",
    "        loss.backward()\n",
    "        train_loss_total += loss.item()\n",
    "        optimizer.step()\n",
    "        \n",
    "        if (batch_idx + 1) % 100 == 0:\n",
    "            print('[{}/{} ({:.0f}%)]\\tLoss: {:.6f}'.format(\n",
    "                (batch_idx + 1) * len(data), len(train_loader.dataset),\n",
    "                100. * batch_idx / len(train_loader), loss.item()))\n",
    "\n",
    "    print(\"Total training loss: \", train_loss_total)\n",
    "    print(\"Number of data points: \", len(train_loader.dataset))\n",
    "    train_loss = train_loss_total / (len(train_loader.dataset))\n",
    "\n",
    "    print('Training set Average loss: {}'.format(train_loss))\n",
    "    return train_loss\n",
    "\n",
    "\n",
    "def validate(model, device, validate_loader, criterion, epoch):\n",
    "    loss_fn = criterion\n",
    "    model.eval()\n",
    "    validate_loss_total = 0\n",
    "    with torch.no_grad():\n",
    "        for batch_idx, (data, label, target) in enumerate(validate_loader):\n",
    "            data, label, target = data.to(device), label.to(device),target.to(device)\n",
    "            output = model(data, label)\n",
    "            loss = loss_fn(output, target)\n",
    "            validate_loss_total += loss.item()\n",
    "        \n",
    "        print(\"Total validation loss: \", validate_loss_total)\n",
    "        print(\"Number of data points: \", len(validate_loader.dataset))\n",
    "        validate_loss = validate_loss_total / len(validate_loader.dataset)\n",
    "        print('Validation set Average loss: ', validate_loss)\n",
    "        return validate_loss"
   ]
  },
  {
   "cell_type": "code",
   "execution_count": 15,
   "id": "176f758a",
   "metadata": {
    "execution": {
     "iopub.execute_input": "2024-08-11T01:08:15.084210Z",
     "iopub.status.busy": "2024-08-11T01:08:15.083830Z",
     "iopub.status.idle": "2024-08-11T07:49:56.425067Z",
     "shell.execute_reply": "2024-08-11T07:49:56.423961Z"
    },
    "papermill": {
     "duration": 24101.395915,
     "end_time": "2024-08-11T07:49:56.466250",
     "exception": false,
     "start_time": "2024-08-11T01:08:15.070335",
     "status": "completed"
    },
    "tags": []
   },
   "outputs": [
    {
     "name": "stdout",
     "output_type": "stream",
     "text": [
      "Epoch:  1\n",
      "---------------------------------------------\n",
      "[3200/39027 (8%)]\tLoss: 0.059625\n",
      "[6400/39027 (16%)]\tLoss: 0.049250\n",
      "[9600/39027 (25%)]\tLoss: 0.061322\n",
      "[12800/39027 (33%)]\tLoss: 0.039057\n",
      "[16000/39027 (41%)]\tLoss: 0.028155\n",
      "[19200/39027 (49%)]\tLoss: 0.039481\n",
      "[22400/39027 (57%)]\tLoss: 0.033516\n",
      "[25600/39027 (65%)]\tLoss: 0.026493\n",
      "[28800/39027 (74%)]\tLoss: 0.034966\n",
      "[32000/39027 (82%)]\tLoss: 0.037983\n",
      "[35200/39027 (90%)]\tLoss: 0.019289\n",
      "[38400/39027 (98%)]\tLoss: 0.029939\n",
      "Total training loss:  55.87343001924455\n",
      "Number of data points:  39027\n",
      "Training set Average loss: 0.0014316609019203257\n",
      "Total validation loss:  3.657795624807477\n",
      "Number of data points:  4336\n",
      "Validation set Average loss:  0.0008435875518467428\n",
      "Best so far is epoch  1\n",
      "---------------------------------------------\n",
      "Epoch:  2\n",
      "---------------------------------------------\n",
      "[3200/39027 (8%)]\tLoss: 0.033501\n",
      "[6400/39027 (16%)]\tLoss: 0.028735\n",
      "[9600/39027 (25%)]\tLoss: 0.026456\n",
      "[12800/39027 (33%)]\tLoss: 0.031024\n",
      "[16000/39027 (41%)]\tLoss: 0.023301\n",
      "[19200/39027 (49%)]\tLoss: 0.030698\n",
      "[22400/39027 (57%)]\tLoss: 0.019642\n",
      "[25600/39027 (65%)]\tLoss: 0.027422\n",
      "[28800/39027 (74%)]\tLoss: 0.027289\n",
      "[32000/39027 (82%)]\tLoss: 0.026655\n",
      "[35200/39027 (90%)]\tLoss: 0.041332\n",
      "[38400/39027 (98%)]\tLoss: 0.028440\n",
      "Total training loss:  30.757335216738284\n",
      "Number of data points:  39027\n",
      "Training set Average loss: 0.0007881040104732181\n",
      "Total validation loss:  3.249896813184023\n",
      "Number of data points:  4336\n",
      "Validation set Average loss:  0.0007495149476900422\n",
      "Best so far is epoch  2\n",
      "---------------------------------------------\n",
      "Epoch:  3\n",
      "---------------------------------------------\n",
      "[3200/39027 (8%)]\tLoss: 0.027835\n",
      "[6400/39027 (16%)]\tLoss: 0.020186\n",
      "[9600/39027 (25%)]\tLoss: 0.026284\n",
      "[12800/39027 (33%)]\tLoss: 0.024099\n",
      "[16000/39027 (41%)]\tLoss: 0.028724\n",
      "[19200/39027 (49%)]\tLoss: 0.024220\n",
      "[22400/39027 (57%)]\tLoss: 0.022951\n",
      "[25600/39027 (65%)]\tLoss: 0.021548\n",
      "[28800/39027 (74%)]\tLoss: 0.015532\n",
      "[32000/39027 (82%)]\tLoss: 0.019113\n",
      "[35200/39027 (90%)]\tLoss: 0.018835\n",
      "[38400/39027 (98%)]\tLoss: 0.020473\n",
      "Total training loss:  26.759147121571004\n",
      "Number of data points:  39027\n",
      "Training set Average loss: 0.0006856572916588773\n",
      "Total validation loss:  2.909841677173972\n",
      "Number of data points:  4336\n",
      "Validation set Average loss:  0.0006710889476877242\n",
      "Best so far is epoch  3\n",
      "Model saved at epoch 3\n",
      "---------------------------------------------\n",
      "Epoch:  4\n",
      "---------------------------------------------\n",
      "[3200/39027 (8%)]\tLoss: 0.018835\n",
      "[6400/39027 (16%)]\tLoss: 0.025247\n",
      "[9600/39027 (25%)]\tLoss: 0.012679\n",
      "[12800/39027 (33%)]\tLoss: 0.017950\n",
      "[16000/39027 (41%)]\tLoss: 0.020414\n",
      "[19200/39027 (49%)]\tLoss: 0.020962\n",
      "[22400/39027 (57%)]\tLoss: 0.016300\n",
      "[25600/39027 (65%)]\tLoss: 0.021646\n",
      "[28800/39027 (74%)]\tLoss: 0.016420\n",
      "[32000/39027 (82%)]\tLoss: 0.021523\n",
      "[35200/39027 (90%)]\tLoss: 0.015306\n",
      "[38400/39027 (98%)]\tLoss: 0.021091\n",
      "Total training loss:  24.38878826238215\n",
      "Number of data points:  39027\n",
      "Training set Average loss: 0.0006249209076378443\n",
      "Total validation loss:  2.684884455986321\n",
      "Number of data points:  4336\n",
      "Validation set Average loss:  0.0006192076697385427\n",
      "Best so far is epoch  4\n",
      "---------------------------------------------\n",
      "Epoch:  5\n",
      "---------------------------------------------\n",
      "[3200/39027 (8%)]\tLoss: 0.023609\n",
      "[6400/39027 (16%)]\tLoss: 0.024308\n",
      "[9600/39027 (25%)]\tLoss: 0.021539\n",
      "[12800/39027 (33%)]\tLoss: 0.017914\n",
      "[16000/39027 (41%)]\tLoss: 0.026505\n",
      "[19200/39027 (49%)]\tLoss: 0.020448\n",
      "[22400/39027 (57%)]\tLoss: 0.011742\n",
      "[25600/39027 (65%)]\tLoss: 0.023714\n",
      "[28800/39027 (74%)]\tLoss: 0.018555\n",
      "[32000/39027 (82%)]\tLoss: 0.016180\n",
      "[35200/39027 (90%)]\tLoss: 0.017501\n",
      "[38400/39027 (98%)]\tLoss: 0.024753\n",
      "Total training loss:  22.774075275287032\n",
      "Number of data points:  39027\n",
      "Training set Average loss: 0.0005835466542467274\n",
      "Total validation loss:  2.4889979092404246\n",
      "Number of data points:  4336\n",
      "Validation set Average loss:  0.0005740308831274042\n",
      "Best so far is epoch  5\n",
      "---------------------------------------------\n",
      "Epoch:  6\n",
      "---------------------------------------------\n",
      "[3200/39027 (8%)]\tLoss: 0.019730\n",
      "[6400/39027 (16%)]\tLoss: 0.018513\n",
      "[9600/39027 (25%)]\tLoss: 0.016451\n",
      "[12800/39027 (33%)]\tLoss: 0.020460\n",
      "[16000/39027 (41%)]\tLoss: 0.020068\n",
      "[19200/39027 (49%)]\tLoss: 0.017479\n",
      "[22400/39027 (57%)]\tLoss: 0.019521\n",
      "[25600/39027 (65%)]\tLoss: 0.012930\n",
      "[28800/39027 (74%)]\tLoss: 0.016131\n",
      "[32000/39027 (82%)]\tLoss: 0.019345\n",
      "[35200/39027 (90%)]\tLoss: 0.011738\n",
      "[38400/39027 (98%)]\tLoss: 0.022653\n",
      "Total training loss:  21.71270066127181\n",
      "Number of data points:  39027\n",
      "Training set Average loss: 0.000556350748488785\n",
      "Total validation loss:  2.366359204053879\n",
      "Number of data points:  4336\n",
      "Validation set Average loss:  0.0005457470489054148\n",
      "Best so far is epoch  6\n",
      "Model saved at epoch 6\n",
      "---------------------------------------------\n",
      "Epoch:  7\n",
      "---------------------------------------------\n",
      "[3200/39027 (8%)]\tLoss: 0.015530\n",
      "[6400/39027 (16%)]\tLoss: 0.014293\n",
      "[9600/39027 (25%)]\tLoss: 0.020062\n",
      "[12800/39027 (33%)]\tLoss: 0.013842\n",
      "[16000/39027 (41%)]\tLoss: 0.014310\n",
      "[19200/39027 (49%)]\tLoss: 0.019540\n",
      "[22400/39027 (57%)]\tLoss: 0.017152\n",
      "[25600/39027 (65%)]\tLoss: 0.009984\n",
      "[28800/39027 (74%)]\tLoss: 0.016224\n",
      "[32000/39027 (82%)]\tLoss: 0.020686\n",
      "[35200/39027 (90%)]\tLoss: 0.015328\n",
      "[38400/39027 (98%)]\tLoss: 0.018067\n",
      "Total training loss:  20.9302049158141\n",
      "Number of data points:  39027\n",
      "Training set Average loss: 0.000536300635862713\n",
      "Total validation loss:  2.2025405569002032\n",
      "Number of data points:  4336\n",
      "Validation set Average loss:  0.0005079659955950654\n",
      "Best so far is epoch  7\n",
      "---------------------------------------------\n",
      "Epoch:  8\n",
      "---------------------------------------------\n",
      "[3200/39027 (8%)]\tLoss: 0.015811\n",
      "[6400/39027 (16%)]\tLoss: 0.017477\n",
      "[9600/39027 (25%)]\tLoss: 0.012855\n",
      "[12800/39027 (33%)]\tLoss: 0.013064\n",
      "[16000/39027 (41%)]\tLoss: 0.019974\n",
      "[19200/39027 (49%)]\tLoss: 0.018019\n",
      "[22400/39027 (57%)]\tLoss: 0.015879\n",
      "[25600/39027 (65%)]\tLoss: 0.016148\n",
      "[28800/39027 (74%)]\tLoss: 0.016721\n",
      "[32000/39027 (82%)]\tLoss: 0.014429\n",
      "[35200/39027 (90%)]\tLoss: 0.018616\n",
      "[38400/39027 (98%)]\tLoss: 0.020726\n",
      "Total training loss:  20.575803173240274\n",
      "Number of data points:  39027\n",
      "Training set Average loss: 0.0005272196984969451\n",
      "Total validation loss:  2.1508250953629613\n",
      "Number of data points:  4336\n",
      "Validation set Average loss:  0.000496038998008063\n",
      "Best so far is epoch  8\n",
      "---------------------------------------------\n",
      "Epoch:  9\n",
      "---------------------------------------------\n",
      "[3200/39027 (8%)]\tLoss: 0.013179\n",
      "[6400/39027 (16%)]\tLoss: 0.014700\n",
      "[9600/39027 (25%)]\tLoss: 0.017442\n",
      "[12800/39027 (33%)]\tLoss: 0.016784\n",
      "[16000/39027 (41%)]\tLoss: 0.011930\n",
      "[19200/39027 (49%)]\tLoss: 0.013868\n",
      "[22400/39027 (57%)]\tLoss: 0.014322\n",
      "[25600/39027 (65%)]\tLoss: 0.013360\n",
      "[28800/39027 (74%)]\tLoss: 0.020508\n",
      "[32000/39027 (82%)]\tLoss: 0.027499\n",
      "[35200/39027 (90%)]\tLoss: 0.018256\n",
      "[38400/39027 (98%)]\tLoss: 0.016059\n",
      "Total training loss:  20.13239998323843\n",
      "Number of data points:  39027\n",
      "Training set Average loss: 0.0005158582515499123\n",
      "Total validation loss:  2.127445725724101\n",
      "Number of data points:  4336\n",
      "Validation set Average loss:  0.0004906470769658905\n",
      "Best so far is epoch  9\n",
      "Model saved at epoch 9\n",
      "---------------------------------------------\n",
      "Epoch:  10\n",
      "---------------------------------------------\n",
      "[3200/39027 (8%)]\tLoss: 0.015960\n",
      "[6400/39027 (16%)]\tLoss: 0.012093\n",
      "[9600/39027 (25%)]\tLoss: 0.017339\n",
      "[12800/39027 (33%)]\tLoss: 0.018541\n",
      "[16000/39027 (41%)]\tLoss: 0.016567\n",
      "[19200/39027 (49%)]\tLoss: 0.020297\n",
      "[22400/39027 (57%)]\tLoss: 0.013144\n",
      "[25600/39027 (65%)]\tLoss: 0.016735\n",
      "[28800/39027 (74%)]\tLoss: 0.016444\n",
      "[32000/39027 (82%)]\tLoss: 0.017941\n",
      "[35200/39027 (90%)]\tLoss: 0.015124\n",
      "[38400/39027 (98%)]\tLoss: 0.011767\n",
      "Total training loss:  19.919084751047194\n",
      "Number of data points:  39027\n",
      "Training set Average loss: 0.0005103924142528812\n",
      "Total validation loss:  2.1013914016075432\n",
      "Number of data points:  4336\n",
      "Validation set Average loss:  0.00048463823837812346\n",
      "Best so far is epoch  10\n",
      "---------------------------------------------\n",
      "Epoch:  11\n",
      "---------------------------------------------\n",
      "[3200/39027 (8%)]\tLoss: 0.015870\n",
      "[6400/39027 (16%)]\tLoss: 0.011325\n",
      "[9600/39027 (25%)]\tLoss: 0.012979\n",
      "[12800/39027 (33%)]\tLoss: 0.013583\n",
      "[16000/39027 (41%)]\tLoss: 0.011330\n",
      "[19200/39027 (49%)]\tLoss: 0.019430\n",
      "[22400/39027 (57%)]\tLoss: 0.010276\n",
      "[25600/39027 (65%)]\tLoss: 0.011521\n",
      "[28800/39027 (74%)]\tLoss: 0.017077\n",
      "[32000/39027 (82%)]\tLoss: 0.028485\n",
      "[35200/39027 (90%)]\tLoss: 0.015660\n",
      "[38400/39027 (98%)]\tLoss: 0.020442\n",
      "Total training loss:  19.756504443474114\n",
      "Number of data points:  39027\n",
      "Training set Average loss: 0.0005062265724619908\n",
      "Total validation loss:  2.0802261736243963\n",
      "Number of data points:  4336\n",
      "Validation set Average loss:  0.00047975695886171504\n",
      "Best so far is epoch  11\n",
      "---------------------------------------------\n",
      "Epoch:  12\n",
      "---------------------------------------------\n",
      "[3200/39027 (8%)]\tLoss: 0.014964\n",
      "[6400/39027 (16%)]\tLoss: 0.016810\n",
      "[9600/39027 (25%)]\tLoss: 0.023702\n",
      "[12800/39027 (33%)]\tLoss: 0.026306\n",
      "[16000/39027 (41%)]\tLoss: 0.018106\n",
      "[19200/39027 (49%)]\tLoss: 0.017801\n",
      "[22400/39027 (57%)]\tLoss: 0.021610\n",
      "[25600/39027 (65%)]\tLoss: 0.011198\n",
      "[28800/39027 (74%)]\tLoss: 0.011093\n",
      "[32000/39027 (82%)]\tLoss: 0.021697\n",
      "[35200/39027 (90%)]\tLoss: 0.015308\n",
      "[38400/39027 (98%)]\tLoss: 0.015825\n",
      "Total training loss:  19.66343131940812\n",
      "Number of data points:  39027\n",
      "Training set Average loss: 0.000503841733143929\n",
      "Total validation loss:  2.0641004936769605\n",
      "Number of data points:  4336\n",
      "Validation set Average loss:  0.00047603793673361636\n",
      "Best so far is epoch  12\n",
      "Model saved at epoch 12\n",
      "---------------------------------------------\n",
      "Epoch:  13\n",
      "---------------------------------------------\n",
      "[3200/39027 (8%)]\tLoss: 0.017687\n",
      "[6400/39027 (16%)]\tLoss: 0.017976\n",
      "[9600/39027 (25%)]\tLoss: 0.017136\n",
      "[12800/39027 (33%)]\tLoss: 0.021066\n",
      "[16000/39027 (41%)]\tLoss: 0.016368\n",
      "[19200/39027 (49%)]\tLoss: 0.010945\n",
      "[22400/39027 (57%)]\tLoss: 0.009634\n",
      "[25600/39027 (65%)]\tLoss: 0.015012\n",
      "[28800/39027 (74%)]\tLoss: 0.015265\n",
      "[32000/39027 (82%)]\tLoss: 0.014059\n",
      "[35200/39027 (90%)]\tLoss: 0.020721\n",
      "[38400/39027 (98%)]\tLoss: 0.013336\n",
      "Total training loss:  19.50810774927959\n",
      "Number of data points:  39027\n",
      "Training set Average loss: 0.00049986183281522\n",
      "Total validation loss:  2.035809255205095\n",
      "Number of data points:  4336\n",
      "Validation set Average loss:  0.0004695132046137211\n",
      "Best so far is epoch  13\n",
      "---------------------------------------------\n",
      "Epoch:  14\n",
      "---------------------------------------------\n",
      "[3200/39027 (8%)]\tLoss: 0.016227\n",
      "[6400/39027 (16%)]\tLoss: 0.010355\n",
      "[9600/39027 (25%)]\tLoss: 0.016443\n",
      "[12800/39027 (33%)]\tLoss: 0.014433\n",
      "[16000/39027 (41%)]\tLoss: 0.017457\n",
      "[19200/39027 (49%)]\tLoss: 0.015605\n",
      "[22400/39027 (57%)]\tLoss: 0.013901\n",
      "[25600/39027 (65%)]\tLoss: 0.018186\n",
      "[28800/39027 (74%)]\tLoss: 0.015839\n",
      "[32000/39027 (82%)]\tLoss: 0.016316\n",
      "[35200/39027 (90%)]\tLoss: 0.012051\n",
      "[38400/39027 (98%)]\tLoss: 0.014374\n",
      "Total training loss:  19.406439255923033\n",
      "Number of data points:  39027\n",
      "Training set Average loss: 0.0004972567518877453\n",
      "Total validation loss:  2.037429567426443\n",
      "Number of data points:  4336\n",
      "Validation set Average loss:  0.000469886892856652\n",
      "---------------------------------------------\n",
      "Epoch:  15\n",
      "---------------------------------------------\n",
      "[3200/39027 (8%)]\tLoss: 0.011201\n",
      "[6400/39027 (16%)]\tLoss: 0.014006\n",
      "[9600/39027 (25%)]\tLoss: 0.017334\n",
      "[12800/39027 (33%)]\tLoss: 0.009866\n",
      "[16000/39027 (41%)]\tLoss: 0.021017\n",
      "[19200/39027 (49%)]\tLoss: 0.015057\n",
      "[22400/39027 (57%)]\tLoss: 0.014639\n",
      "[25600/39027 (65%)]\tLoss: 0.016849\n",
      "[28800/39027 (74%)]\tLoss: 0.024006\n",
      "[32000/39027 (82%)]\tLoss: 0.013036\n",
      "[35200/39027 (90%)]\tLoss: 0.018706\n",
      "[38400/39027 (98%)]\tLoss: 0.011795\n",
      "Total training loss:  19.379872952587903\n",
      "Number of data points:  39027\n",
      "Training set Average loss: 0.000496576035887665\n",
      "Total validation loss:  2.0263292994350195\n",
      "Number of data points:  4336\n",
      "Validation set Average loss:  0.0004673268679508809\n",
      "Best so far is epoch  15\n",
      "Model saved at epoch 15\n",
      "---------------------------------------------\n",
      "Epoch:  16\n",
      "---------------------------------------------\n",
      "[3200/39027 (8%)]\tLoss: 0.016174\n",
      "[6400/39027 (16%)]\tLoss: 0.012290\n",
      "[9600/39027 (25%)]\tLoss: 0.013873\n",
      "[12800/39027 (33%)]\tLoss: 0.019237\n",
      "[16000/39027 (41%)]\tLoss: 0.010631\n",
      "[19200/39027 (49%)]\tLoss: 0.019939\n",
      "[22400/39027 (57%)]\tLoss: 0.011188\n",
      "[25600/39027 (65%)]\tLoss: 0.012413\n",
      "[28800/39027 (74%)]\tLoss: 0.014786\n",
      "[32000/39027 (82%)]\tLoss: 0.015387\n",
      "[35200/39027 (90%)]\tLoss: 0.014440\n",
      "[38400/39027 (98%)]\tLoss: 0.012883\n",
      "Total training loss:  19.18145636562258\n",
      "Number of data points:  39027\n",
      "Training set Average loss: 0.0004914919508448659\n",
      "Total validation loss:  2.0221473542042077\n",
      "Number of data points:  4336\n",
      "Validation set Average loss:  0.0004663623971873173\n",
      "Best so far is epoch  16\n",
      "---------------------------------------------\n",
      "Epoch:  17\n",
      "---------------------------------------------\n",
      "[3200/39027 (8%)]\tLoss: 0.014993\n",
      "[6400/39027 (16%)]\tLoss: 0.020525\n",
      "[9600/39027 (25%)]\tLoss: 0.016243\n",
      "[12800/39027 (33%)]\tLoss: 0.016962\n",
      "[16000/39027 (41%)]\tLoss: 0.021542\n",
      "[19200/39027 (49%)]\tLoss: 0.017314\n",
      "[22400/39027 (57%)]\tLoss: 0.024947\n",
      "[25600/39027 (65%)]\tLoss: 0.013582\n",
      "[28800/39027 (74%)]\tLoss: 0.015798\n",
      "[32000/39027 (82%)]\tLoss: 0.017265\n",
      "[35200/39027 (90%)]\tLoss: 0.019814\n",
      "[38400/39027 (98%)]\tLoss: 0.013503\n",
      "Total training loss:  19.178115368820727\n",
      "Number of data points:  39027\n",
      "Training set Average loss: 0.0004914063435268078\n",
      "Total validation loss:  2.0123269567266107\n",
      "Number of data points:  4336\n",
      "Validation set Average loss:  0.00046409754537052826\n",
      "Best so far is epoch  17\n",
      "---------------------------------------------\n",
      "Epoch:  18\n",
      "---------------------------------------------\n",
      "[3200/39027 (8%)]\tLoss: 0.013999\n",
      "[6400/39027 (16%)]\tLoss: 0.013195\n",
      "[9600/39027 (25%)]\tLoss: 0.016509\n",
      "[12800/39027 (33%)]\tLoss: 0.021766\n",
      "[16000/39027 (41%)]\tLoss: 0.018417\n",
      "[19200/39027 (49%)]\tLoss: 0.014670\n",
      "[22400/39027 (57%)]\tLoss: 0.016601\n",
      "[25600/39027 (65%)]\tLoss: 0.016002\n",
      "[28800/39027 (74%)]\tLoss: 0.008754\n",
      "[32000/39027 (82%)]\tLoss: 0.011032\n",
      "[35200/39027 (90%)]\tLoss: 0.019105\n",
      "[38400/39027 (98%)]\tLoss: 0.018673\n",
      "Total training loss:  19.044867393560708\n",
      "Number of data points:  39027\n",
      "Training set Average loss: 0.0004879920924888079\n",
      "Total validation loss:  2.0232452736236155\n",
      "Number of data points:  4336\n",
      "Validation set Average loss:  0.00046661560738552017\n",
      "Model saved at epoch 18\n",
      "---------------------------------------------\n",
      "Epoch:  19\n",
      "---------------------------------------------\n",
      "[3200/39027 (8%)]\tLoss: 0.018222\n",
      "[6400/39027 (16%)]\tLoss: 0.015220\n",
      "[9600/39027 (25%)]\tLoss: 0.011515\n",
      "[12800/39027 (33%)]\tLoss: 0.016505\n",
      "[16000/39027 (41%)]\tLoss: 0.015055\n",
      "[19200/39027 (49%)]\tLoss: 0.012519\n",
      "[22400/39027 (57%)]\tLoss: 0.023232\n",
      "[25600/39027 (65%)]\tLoss: 0.016919\n",
      "[28800/39027 (74%)]\tLoss: 0.015101\n",
      "[32000/39027 (82%)]\tLoss: 0.013656\n",
      "[35200/39027 (90%)]\tLoss: 0.018460\n",
      "[38400/39027 (98%)]\tLoss: 0.016415\n",
      "Total training loss:  19.046275845263153\n",
      "Number of data points:  39027\n",
      "Training set Average loss: 0.00048802818165022047\n",
      "Total validation loss:  2.036963771097362\n",
      "Number of data points:  4336\n",
      "Validation set Average loss:  0.0004697794675040042\n",
      "---------------------------------------------\n",
      "Early stopping\n",
      "---------------------------------------------\n",
      "Finished Training\n"
     ]
    }
   ],
   "source": [
    "num_epochs = 20\n",
    "training_loss = [0 for _ in range(num_epochs)]\n",
    "validation_loss = [0 for _ in range(num_epochs)]\n",
    "best_val_loss = 1000000000\n",
    "overfit_count = 3\n",
    "for epoch in range(1, num_epochs + 1):\n",
    "    print(\"Epoch: \", epoch)\n",
    "    print(\"---------------------------------------------\")\n",
    "\n",
    "    train_loss = train(model, device, trainloader, criterion, optimizer, epoch)\n",
    "    val_loss = validate(model, device, validationloader, criterion, epoch)\n",
    "    \n",
    "    training_loss[epoch - 1] = train_loss\n",
    "    validation_loss[epoch - 1] = val_loss\n",
    "    \n",
    "    if val_loss < best_val_loss:\n",
    "        print(\"Best so far is epoch \", epoch)\n",
    "        best_val_loss = val_loss\n",
    "        overfit_count = 2\n",
    "        torch.save(model.state_dict(), 'best_weights.pth')\n",
    "    else:\n",
    "        overfit_count -= 1\n",
    "    \n",
    "    if overfit_count == 0:\n",
    "        print(\"---------------------------------------------\")\n",
    "        print('Early stopping')\n",
    "        print(\"---------------------------------------------\")\n",
    "        break\n",
    "    \n",
    "    if epoch % 3 == 0:\n",
    "        torch.save(model.state_dict(), 'epoch{}.pth'.format(epoch))\n",
    "        print(f'Model saved at epoch {epoch}')\n",
    "        \n",
    "\n",
    "    print(\"---------------------------------------------\")\n",
    "\n",
    "print('Finished Training')"
   ]
  },
  {
   "cell_type": "markdown",
   "id": "c41be4ea",
   "metadata": {
    "papermill": {
     "duration": 0.036334,
     "end_time": "2024-08-11T07:49:56.540814",
     "exception": false,
     "start_time": "2024-08-11T07:49:56.504480",
     "status": "completed"
    },
    "tags": []
   },
   "source": [
    "### Fine Tuning"
   ]
  },
  {
   "cell_type": "markdown",
   "id": "d86b679a",
   "metadata": {
    "papermill": {
     "duration": 0.036087,
     "end_time": "2024-08-11T07:49:56.613020",
     "exception": false,
     "start_time": "2024-08-11T07:49:56.576933",
     "status": "completed"
    },
    "tags": []
   },
   "source": [
    "# Evaluate"
   ]
  },
  {
   "cell_type": "code",
   "execution_count": 16,
   "id": "ae6de1db",
   "metadata": {
    "execution": {
     "iopub.execute_input": "2024-08-11T07:49:56.690001Z",
     "iopub.status.busy": "2024-08-11T07:49:56.689560Z",
     "iopub.status.idle": "2024-08-11T07:49:56.907382Z",
     "shell.execute_reply": "2024-08-11T07:49:56.906409Z"
    },
    "papermill": {
     "duration": 0.259304,
     "end_time": "2024-08-11T07:49:56.909750",
     "exception": false,
     "start_time": "2024-08-11T07:49:56.650446",
     "status": "completed"
    },
    "tags": []
   },
   "outputs": [
    {
     "data": {
      "text/plain": [
       "<All keys matched successfully>"
      ]
     },
     "execution_count": 16,
     "metadata": {},
     "output_type": "execute_result"
    }
   ],
   "source": [
    "PATH = '/kaggle/working/best_weights.pth'\n",
    "model.load_state_dict(torch.load(PATH))"
   ]
  },
  {
   "cell_type": "code",
   "execution_count": 17,
   "id": "c7d2c9bd",
   "metadata": {
    "execution": {
     "iopub.execute_input": "2024-08-11T07:49:56.985571Z",
     "iopub.status.busy": "2024-08-11T07:49:56.984904Z",
     "iopub.status.idle": "2024-08-11T07:49:56.993974Z",
     "shell.execute_reply": "2024-08-11T07:49:56.992944Z"
    },
    "papermill": {
     "duration": 0.049111,
     "end_time": "2024-08-11T07:49:56.996210",
     "exception": false,
     "start_time": "2024-08-11T07:49:56.947099",
     "status": "completed"
    },
    "tags": []
   },
   "outputs": [],
   "source": [
    "def r2score(model, device, dataloader):\n",
    "    predictions = []\n",
    "    targets = []\n",
    "    model.eval()\n",
    "    with torch.no_grad():\n",
    "        for batch_idx, (data, label, target) in enumerate(dataloader):\n",
    "            data, label, target = data.to(device), label.to(device), target.to(device)\n",
    "            output = model(data, label)\n",
    "            predictions.extend(output.cpu().numpy())\n",
    "            targets.extend(target.cpu().numpy())\n",
    "        \n",
    "        targets = np.array(targets)\n",
    "        predictions = np.array(predictions)\n",
    "\n",
    "        scores = []\n",
    "        for i in range(6):\n",
    "            r2 = r2_score(targets[:, i], predictions[:, i])\n",
    "            scores.append(r2)\n",
    "            \n",
    "        print(scores)\n",
    "        return np.mean(scores)\n",
    "            "
   ]
  },
  {
   "cell_type": "code",
   "execution_count": 18,
   "id": "fcc0f63b",
   "metadata": {
    "execution": {
     "iopub.execute_input": "2024-08-11T07:49:57.071297Z",
     "iopub.status.busy": "2024-08-11T07:49:57.070937Z",
     "iopub.status.idle": "2024-08-11T07:50:49.724663Z",
     "shell.execute_reply": "2024-08-11T07:50:49.723238Z"
    },
    "papermill": {
     "duration": 52.735832,
     "end_time": "2024-08-11T07:50:49.768874",
     "exception": false,
     "start_time": "2024-08-11T07:49:57.033042",
     "status": "completed"
    },
    "tags": []
   },
   "outputs": [
    {
     "name": "stdout",
     "output_type": "stream",
     "text": [
      "[0.21912794553760018, 0.3039815472441173, 0.4625236986787118, 0.20287494312721444, 0.18124637105693175, 0.30638828709622123]\n"
     ]
    },
    {
     "data": {
      "text/plain": [
       "0.2793571321234661"
      ]
     },
     "execution_count": 18,
     "metadata": {},
     "output_type": "execute_result"
    }
   ],
   "source": [
    "r2score(model, device, validationloader)"
   ]
  },
  {
   "cell_type": "markdown",
   "id": "ab6d30b7",
   "metadata": {
    "papermill": {
     "duration": 0.037975,
     "end_time": "2024-08-11T07:50:49.844355",
     "exception": false,
     "start_time": "2024-08-11T07:50:49.806380",
     "status": "completed"
    },
    "tags": []
   },
   "source": [
    "# Predict"
   ]
  },
  {
   "cell_type": "code",
   "execution_count": 19,
   "id": "e2284403",
   "metadata": {
    "execution": {
     "iopub.execute_input": "2024-08-11T07:50:49.920588Z",
     "iopub.status.busy": "2024-08-11T07:50:49.920236Z",
     "iopub.status.idle": "2024-08-11T07:50:49.936936Z",
     "shell.execute_reply": "2024-08-11T07:50:49.935885Z"
    },
    "papermill": {
     "duration": 0.057401,
     "end_time": "2024-08-11T07:50:49.939268",
     "exception": false,
     "start_time": "2024-08-11T07:50:49.881867",
     "status": "completed"
    },
    "tags": []
   },
   "outputs": [],
   "source": [
    "class TestImageSet(Dataset):\n",
    "    def __init__(self, root_dir, indices, label_mapping, target_mapping, transform = None):\n",
    "        self.root_dir = root_dir\n",
    "        self.indices = indices\n",
    "        self.transform = transform\n",
    "        self.image_paths = []\n",
    "        self.targets = []\n",
    "        self.labels = []\n",
    "        \n",
    "        for idx in indices:\n",
    "            self.image_paths.append(os.path.join(root_dir, str(idx) + \".jpeg\"))\n",
    "            target = self.get_target_from_filename(idx, target_mapping)\n",
    "            self.targets.append(target)\n",
    "            label = self.get_label_from_filename(idx, label_mapping)\n",
    "            self.labels.append(label)\n",
    "                \n",
    "    def get_target_from_filename(self, idx, target_mapping):\n",
    "        return int(target_mapping.loc[idx].values[0])\n",
    "    \n",
    "    def get_label_from_filename(self, idx, label_mapping):\n",
    "        target = label_mapping.loc[idx].values\n",
    "        return torch.tensor(target).float()\n",
    "        \n",
    "    def __len__(self):\n",
    "        return len(self.image_paths)\n",
    "\n",
    "    def __getitem__(self, idx):\n",
    "        img_path = self.image_paths[idx]\n",
    "        image = Image.open(img_path)\n",
    "        target = self.targets[idx]\n",
    "        label = self.labels[idx]\n",
    " \n",
    "        if self.transform:\n",
    "            image = self.transform(image)\n",
    "\n",
    "        return image, label, target"
   ]
  },
  {
   "cell_type": "code",
   "execution_count": 20,
   "id": "b202f5ca",
   "metadata": {
    "execution": {
     "iopub.execute_input": "2024-08-11T07:50:50.016058Z",
     "iopub.status.busy": "2024-08-11T07:50:50.015335Z",
     "iopub.status.idle": "2024-08-11T07:50:50.277058Z",
     "shell.execute_reply": "2024-08-11T07:50:50.276200Z"
    },
    "papermill": {
     "duration": 0.302806,
     "end_time": "2024-08-11T07:50:50.279484",
     "exception": false,
     "start_time": "2024-08-11T07:50:49.976678",
     "status": "completed"
    },
    "tags": []
   },
   "outputs": [],
   "source": [
    "test_data = pd.read_csv(\"/kaggle/input/cs-480-2024-spring/data/test.csv\")\n",
    "test_data = test_data.set_index('id')\n",
    "\n",
    "test_data_normalized = (test_data - data_min) / (data_max - data_min)\n",
    "\n",
    "# Mapping for IDs\n",
    "test_data_index = pd.DataFrame(index = test_data.index)\n",
    "test_data_index['id'] = test_data.index\n",
    "test_data_index['id'] = test_data_index['id'].astype(int)"
   ]
  },
  {
   "cell_type": "code",
   "execution_count": 21,
   "id": "84e30114",
   "metadata": {
    "execution": {
     "iopub.execute_input": "2024-08-11T07:50:50.356380Z",
     "iopub.status.busy": "2024-08-11T07:50:50.356042Z",
     "iopub.status.idle": "2024-08-11T07:50:50.362586Z",
     "shell.execute_reply": "2024-08-11T07:50:50.361602Z"
    },
    "papermill": {
     "duration": 0.047697,
     "end_time": "2024-08-11T07:50:50.364849",
     "exception": false,
     "start_time": "2024-08-11T07:50:50.317152",
     "status": "completed"
    },
    "tags": []
   },
   "outputs": [
    {
     "data": {
      "text/plain": [
       "\"print(test_data_index['id'].nunique())\\nprint(test_data.index.nunique())\\nprint(type(test_data.index))\""
      ]
     },
     "execution_count": 21,
     "metadata": {},
     "output_type": "execute_result"
    }
   ],
   "source": [
    "'''print(test_data_index['id'].nunique())\n",
    "print(test_data.index.nunique())\n",
    "print(type(test_data.index))'''"
   ]
  },
  {
   "cell_type": "code",
   "execution_count": 22,
   "id": "f1d2cde5",
   "metadata": {
    "execution": {
     "iopub.execute_input": "2024-08-11T07:50:50.443483Z",
     "iopub.status.busy": "2024-08-11T07:50:50.443119Z",
     "iopub.status.idle": "2024-08-11T07:50:52.163815Z",
     "shell.execute_reply": "2024-08-11T07:50:52.162769Z"
    },
    "papermill": {
     "duration": 1.76241,
     "end_time": "2024-08-11T07:50:52.166585",
     "exception": false,
     "start_time": "2024-08-11T07:50:50.404175",
     "status": "completed"
    },
    "tags": []
   },
   "outputs": [],
   "source": [
    "test_transform = transforms.Compose([\n",
    "    transforms.Resize((224, 224)),\n",
    "    transforms.ToTensor(),\n",
    "    transforms.Normalize(mean=[0.485, 0.456, 0.406],\n",
    "                         std=[0.229, 0.224, 0.225])\n",
    "])\n",
    "\n",
    "\n",
    "testset = TestImageSet('/kaggle/input/cs-480-2024-spring/data/test_images/', test_data.index.tolist(), label_mapping = test_data_normalized,\n",
    "                               target_mapping = test_data_index, transform=test_transform)\n",
    "\n",
    "batch_size = 1\n",
    "\n",
    "testloader = DataLoader(testset, batch_size = batch_size, shuffle=False)"
   ]
  },
  {
   "cell_type": "code",
   "execution_count": 23,
   "id": "4d0f8aaa",
   "metadata": {
    "execution": {
     "iopub.execute_input": "2024-08-11T07:50:52.246458Z",
     "iopub.status.busy": "2024-08-11T07:50:52.246037Z",
     "iopub.status.idle": "2024-08-11T07:50:52.253929Z",
     "shell.execute_reply": "2024-08-11T07:50:52.252964Z"
    },
    "papermill": {
     "duration": 0.051379,
     "end_time": "2024-08-11T07:50:52.256097",
     "exception": false,
     "start_time": "2024-08-11T07:50:52.204718",
     "status": "completed"
    },
    "tags": []
   },
   "outputs": [],
   "source": [
    "columns = ['id', 'X4', 'X11', 'X18', 'X26', 'X50', 'X3112']\n",
    "def predict(model, device, test_loader):\n",
    "    model.eval()\n",
    "    predictions = []\n",
    "    with torch.no_grad():\n",
    "        for data, label, target in test_loader:\n",
    "            data, label, target = data.to(device), label.to(device), target.to(device)\n",
    "            output = model(data, label)\n",
    "            output = inverse_transformation(output.cpu().numpy()[0])\n",
    "            target = int(target.cpu().numpy()[0])\n",
    "            \n",
    "            new_row = pd.Series([target] + output.tolist(), index=columns)\n",
    "            predictions.append(new_row)\n",
    "            \n",
    "    return predictions"
   ]
  },
  {
   "cell_type": "code",
   "execution_count": 24,
   "id": "8048e125",
   "metadata": {
    "execution": {
     "iopub.execute_input": "2024-08-11T07:50:52.335055Z",
     "iopub.status.busy": "2024-08-11T07:50:52.334225Z",
     "iopub.status.idle": "2024-08-11T07:53:02.389279Z",
     "shell.execute_reply": "2024-08-11T07:53:02.386408Z"
    },
    "papermill": {
     "duration": 130.098964,
     "end_time": "2024-08-11T07:53:02.393055",
     "exception": false,
     "start_time": "2024-08-11T07:50:52.294091",
     "status": "completed"
    },
    "tags": []
   },
   "outputs": [],
   "source": [
    "predictions = predict(model, device, testloader)\n",
    "df = pd.DataFrame(predictions)"
   ]
  },
  {
   "cell_type": "code",
   "execution_count": 25,
   "id": "a6c26cc7",
   "metadata": {
    "execution": {
     "iopub.execute_input": "2024-08-11T07:53:02.477885Z",
     "iopub.status.busy": "2024-08-11T07:53:02.476876Z",
     "iopub.status.idle": "2024-08-11T07:53:02.484438Z",
     "shell.execute_reply": "2024-08-11T07:53:02.483307Z"
    },
    "papermill": {
     "duration": 0.05294,
     "end_time": "2024-08-11T07:53:02.486672",
     "exception": false,
     "start_time": "2024-08-11T07:53:02.433732",
     "status": "completed"
    },
    "tags": []
   },
   "outputs": [
    {
     "data": {
      "text/plain": [
       "\"print(df['id'].nunique())\\nprint(df.shape)\\n\\nprint(df['id'].duplicated())\""
      ]
     },
     "execution_count": 25,
     "metadata": {},
     "output_type": "execute_result"
    }
   ],
   "source": [
    "'''print(df['id'].nunique())\n",
    "print(df.shape)\n",
    "\n",
    "print(df['id'].duplicated())'''\n",
    "# print(df.head())"
   ]
  },
  {
   "cell_type": "code",
   "execution_count": 26,
   "id": "fd523480",
   "metadata": {
    "execution": {
     "iopub.execute_input": "2024-08-11T07:53:02.571518Z",
     "iopub.status.busy": "2024-08-11T07:53:02.571022Z",
     "iopub.status.idle": "2024-08-11T07:53:02.678496Z",
     "shell.execute_reply": "2024-08-11T07:53:02.677508Z"
    },
    "papermill": {
     "duration": 0.154976,
     "end_time": "2024-08-11T07:53:02.681550",
     "exception": false,
     "start_time": "2024-08-11T07:53:02.526574",
     "status": "completed"
    },
    "tags": []
   },
   "outputs": [],
   "source": [
    "df.to_csv('submission.csv', index=False)"
   ]
  }
 ],
 "metadata": {
  "kaggle": {
   "accelerator": "nvidiaTeslaT4",
   "dataSources": [
    {
     "databundleVersionId": 8915386,
     "sourceId": 81655,
     "sourceType": "competition"
    }
   ],
   "dockerImageVersionId": 30746,
   "isGpuEnabled": true,
   "isInternetEnabled": true,
   "language": "python",
   "sourceType": "notebook"
  },
  "kernelspec": {
   "display_name": "Python 3",
   "language": "python",
   "name": "python3"
  },
  "language_info": {
   "codemirror_mode": {
    "name": "ipython",
    "version": 3
   },
   "file_extension": ".py",
   "mimetype": "text/x-python",
   "name": "python",
   "nbconvert_exporter": "python",
   "pygments_lexer": "ipython3",
   "version": "3.10.13"
  },
  "papermill": {
   "default_parameters": {},
   "duration": 24320.160082,
   "end_time": "2024-08-11T07:53:04.803750",
   "environment_variables": {},
   "exception": null,
   "input_path": "__notebook__.ipynb",
   "output_path": "__notebook__.ipynb",
   "parameters": {},
   "start_time": "2024-08-11T01:07:44.643668",
   "version": "2.5.0"
  }
 },
 "nbformat": 4,
 "nbformat_minor": 5
}
